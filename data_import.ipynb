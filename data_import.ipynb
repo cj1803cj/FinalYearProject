{
 "metadata": {
  "language_info": {
   "codemirror_mode": {
    "name": "ipython",
    "version": 3
   },
   "file_extension": ".py",
   "mimetype": "text/x-python",
   "name": "python",
   "nbconvert_exporter": "python",
   "pygments_lexer": "ipython3",
   "version": "3.7.7-final"
  },
  "orig_nbformat": 2,
  "kernelspec": {
   "name": "python_defaultSpec_1598006057681",
   "display_name": "Python 3.7.7 64-bit ('py37': conda)"
  }
 },
 "nbformat": 4,
 "nbformat_minor": 2,
 "cells": [
  {
   "cell_type": "code",
   "execution_count": 2,
   "metadata": {},
   "outputs": [],
   "source": [
    "# imports for required libraries\n",
    "import pandas as pd\n",
    "import numpy as np\n",
    "from sklearn.metrics.pairwise import cosine_similarity\n",
    "from sklearn.feature_extraction.text import TfidfVectorizer\n",
    "import pickle\n",
    "\n",
    "from sqlalchemy import create_engine"
   ]
  },
  {
   "cell_type": "code",
   "execution_count": 3,
   "metadata": {},
   "outputs": [],
   "source": [
    "# load datased as pandas dataframe\n",
    "df = pd.read_csv('TopStaredRepositories.csv')"
   ]
  },
  {
   "cell_type": "code",
   "execution_count": 4,
   "metadata": {},
   "outputs": [
    {
     "output_type": "execute_result",
     "data": {
      "text/plain": "          Username         Repository Name  \\\n0     freeCodeCamp            freeCodeCamp   \n1             twbs               bootstrap   \n2  EbookFoundation  free-programming-books   \n3         facebook                   react   \n4               d3                      d3   \n\n                                         Description      Last Update Date  \\\n0  The https://freeCodeCamp.com open source codeb...  2017-06-24T15:56:17Z   \n1  The most popular HTML, CSS, and JavaScript fra...  2017-06-24T15:40:21Z   \n2                 Freely available programming books  2017-06-23T01:09:34Z   \n3  A declarative, efficient, and flexible JavaScr...  2017-06-24T19:33:49Z   \n4     Bring data to life with SVG, Canvas and HTML.   2017-05-31T06:03:47Z   \n\n     Language Number of Stars  \\\n0  JavaScript            290k   \n1  JavaScript            112k   \n2         NaN           87.8k   \n3  JavaScript           69.7k   \n4  JavaScript           65.7k   \n\n                                                Tags  \\\n0  nonprofits,certification,curriculum,react,node...   \n1     javascript,css,html,bootstrap,jekyll-site,scss   \n2                      education,list,books,resource   \n3                                                NaN   \n4                                      visualization   \n\n                                                 Url  \\\n0       https://github.com/freeCodeCamp/freeCodeCamp   \n1                  https://github.com/twbs/bootstrap   \n2  https://github.com/EbookFoundation/free-progra...   \n3                  https://github.com/facebook/react   \n4                           https://github.com/d3/d3   \n\n                                            Gravatar  \n0  https://avatars0.githubusercontent.com/u/98925...  \n1  https://avatars0.githubusercontent.com/u/29185...  \n2  https://avatars0.githubusercontent.com/u/14127...  \n3  https://avatars3.githubusercontent.com/u/69631...  \n4  https://avatars1.githubusercontent.com/u/15627...  ",
      "text/html": "<div>\n<style scoped>\n    .dataframe tbody tr th:only-of-type {\n        vertical-align: middle;\n    }\n\n    .dataframe tbody tr th {\n        vertical-align: top;\n    }\n\n    .dataframe thead th {\n        text-align: right;\n    }\n</style>\n<table border=\"1\" class=\"dataframe\">\n  <thead>\n    <tr style=\"text-align: right;\">\n      <th></th>\n      <th>Username</th>\n      <th>Repository Name</th>\n      <th>Description</th>\n      <th>Last Update Date</th>\n      <th>Language</th>\n      <th>Number of Stars</th>\n      <th>Tags</th>\n      <th>Url</th>\n      <th>Gravatar</th>\n    </tr>\n  </thead>\n  <tbody>\n    <tr>\n      <th>0</th>\n      <td>freeCodeCamp</td>\n      <td>freeCodeCamp</td>\n      <td>The https://freeCodeCamp.com open source codeb...</td>\n      <td>2017-06-24T15:56:17Z</td>\n      <td>JavaScript</td>\n      <td>290k</td>\n      <td>nonprofits,certification,curriculum,react,node...</td>\n      <td>https://github.com/freeCodeCamp/freeCodeCamp</td>\n      <td>https://avatars0.githubusercontent.com/u/98925...</td>\n    </tr>\n    <tr>\n      <th>1</th>\n      <td>twbs</td>\n      <td>bootstrap</td>\n      <td>The most popular HTML, CSS, and JavaScript fra...</td>\n      <td>2017-06-24T15:40:21Z</td>\n      <td>JavaScript</td>\n      <td>112k</td>\n      <td>javascript,css,html,bootstrap,jekyll-site,scss</td>\n      <td>https://github.com/twbs/bootstrap</td>\n      <td>https://avatars0.githubusercontent.com/u/29185...</td>\n    </tr>\n    <tr>\n      <th>2</th>\n      <td>EbookFoundation</td>\n      <td>free-programming-books</td>\n      <td>Freely available programming books</td>\n      <td>2017-06-23T01:09:34Z</td>\n      <td>NaN</td>\n      <td>87.8k</td>\n      <td>education,list,books,resource</td>\n      <td>https://github.com/EbookFoundation/free-progra...</td>\n      <td>https://avatars0.githubusercontent.com/u/14127...</td>\n    </tr>\n    <tr>\n      <th>3</th>\n      <td>facebook</td>\n      <td>react</td>\n      <td>A declarative, efficient, and flexible JavaScr...</td>\n      <td>2017-06-24T19:33:49Z</td>\n      <td>JavaScript</td>\n      <td>69.7k</td>\n      <td>NaN</td>\n      <td>https://github.com/facebook/react</td>\n      <td>https://avatars3.githubusercontent.com/u/69631...</td>\n    </tr>\n    <tr>\n      <th>4</th>\n      <td>d3</td>\n      <td>d3</td>\n      <td>Bring data to life with SVG, Canvas and HTML.</td>\n      <td>2017-05-31T06:03:47Z</td>\n      <td>JavaScript</td>\n      <td>65.7k</td>\n      <td>visualization</td>\n      <td>https://github.com/d3/d3</td>\n      <td>https://avatars1.githubusercontent.com/u/15627...</td>\n    </tr>\n  </tbody>\n</table>\n</div>"
     },
     "metadata": {},
     "execution_count": 4
    }
   ],
   "source": [
    "# print first 5 rows of dataset\n",
    "df.head(5)"
   ]
  },
  {
   "cell_type": "code",
   "execution_count": 5,
   "metadata": {},
   "outputs": [
    {
     "output_type": "execute_result",
     "data": {
      "text/plain": "(980, 9)"
     },
     "metadata": {},
     "execution_count": 5
    }
   ],
   "source": [
    "# print number of rows and columns in dataset, 980 and 9 respectively\n",
    "df.shape"
   ]
  },
  {
   "cell_type": "code",
   "execution_count": 6,
   "metadata": {},
   "outputs": [
    {
     "output_type": "execute_result",
     "data": {
      "text/plain": "          Repository Name                                        Description  \\\n0            freeCodeCamp  The https://freeCodeCamp.com open source codeb...   \n1               bootstrap  The most popular HTML, CSS, and JavaScript fra...   \n2  free-programming-books                 Freely available programming books   \n3                   react  A declarative, efficient, and flexible JavaScr...   \n4                      d3     Bring data to life with SVG, Canvas and HTML.    \n\n     Language                                                Url  \\\n0  JavaScript       https://github.com/freeCodeCamp/freeCodeCamp   \n1  JavaScript                  https://github.com/twbs/bootstrap   \n2         NaN  https://github.com/EbookFoundation/free-progra...   \n3  JavaScript                  https://github.com/facebook/react   \n4  JavaScript                           https://github.com/d3/d3   \n\n                                                Tags  \n0  nonprofits,certification,curriculum,react,node...  \n1     javascript,css,html,bootstrap,jekyll-site,scss  \n2                      education,list,books,resource  \n3                                                NaN  \n4                                      visualization  ",
      "text/html": "<div>\n<style scoped>\n    .dataframe tbody tr th:only-of-type {\n        vertical-align: middle;\n    }\n\n    .dataframe tbody tr th {\n        vertical-align: top;\n    }\n\n    .dataframe thead th {\n        text-align: right;\n    }\n</style>\n<table border=\"1\" class=\"dataframe\">\n  <thead>\n    <tr style=\"text-align: right;\">\n      <th></th>\n      <th>Repository Name</th>\n      <th>Description</th>\n      <th>Language</th>\n      <th>Url</th>\n      <th>Tags</th>\n    </tr>\n  </thead>\n  <tbody>\n    <tr>\n      <th>0</th>\n      <td>freeCodeCamp</td>\n      <td>The https://freeCodeCamp.com open source codeb...</td>\n      <td>JavaScript</td>\n      <td>https://github.com/freeCodeCamp/freeCodeCamp</td>\n      <td>nonprofits,certification,curriculum,react,node...</td>\n    </tr>\n    <tr>\n      <th>1</th>\n      <td>bootstrap</td>\n      <td>The most popular HTML, CSS, and JavaScript fra...</td>\n      <td>JavaScript</td>\n      <td>https://github.com/twbs/bootstrap</td>\n      <td>javascript,css,html,bootstrap,jekyll-site,scss</td>\n    </tr>\n    <tr>\n      <th>2</th>\n      <td>free-programming-books</td>\n      <td>Freely available programming books</td>\n      <td>NaN</td>\n      <td>https://github.com/EbookFoundation/free-progra...</td>\n      <td>education,list,books,resource</td>\n    </tr>\n    <tr>\n      <th>3</th>\n      <td>react</td>\n      <td>A declarative, efficient, and flexible JavaScr...</td>\n      <td>JavaScript</td>\n      <td>https://github.com/facebook/react</td>\n      <td>NaN</td>\n    </tr>\n    <tr>\n      <th>4</th>\n      <td>d3</td>\n      <td>Bring data to life with SVG, Canvas and HTML.</td>\n      <td>JavaScript</td>\n      <td>https://github.com/d3/d3</td>\n      <td>visualization</td>\n    </tr>\n  </tbody>\n</table>\n</div>"
     },
     "metadata": {},
     "execution_count": 6
    }
   ],
   "source": [
    "# list of columns to import into db file\n",
    "columns = ['Repository Name', 'Description', 'Language', 'Url', 'Tags']\n",
    "\n",
    "df[columns].head(5)"
   ]
  },
  {
   "cell_type": "code",
   "execution_count": 7,
   "metadata": {},
   "outputs": [
    {
     "output_type": "execute_result",
     "data": {
      "text/plain": "          Repository Name                                        Description  \\\n0            freeCodeCamp  The https://freeCodeCamp.com open source codeb...   \n1               bootstrap  The most popular HTML, CSS, and JavaScript fra...   \n2  free-programming-books                 Freely available programming books   \n3                   react  A declarative, efficient, and flexible JavaScr...   \n4                      d3     Bring data to life with SVG, Canvas and HTML.    \n\n     Language                                                Url  \\\n0  JavaScript       https://github.com/freeCodeCamp/freeCodeCamp   \n1  JavaScript                  https://github.com/twbs/bootstrap   \n2              https://github.com/EbookFoundation/free-progra...   \n3  JavaScript                  https://github.com/facebook/react   \n4  JavaScript                           https://github.com/d3/d3   \n\n                                                Tags  \\\n0  nonprofits,certification,curriculum,react,node...   \n1     javascript,css,html,bootstrap,jekyll-site,scss   \n2                      education,list,books,resource   \n3                                                      \n4                                      visualization   \n\n                    Timestamp  \n0  2020-08-20 22:41:12.177510  \n1  2020-08-20 22:41:12.177510  \n2  2020-08-20 22:41:12.177510  \n3  2020-08-20 22:41:12.177510  \n4  2020-08-20 22:41:12.177510  ",
      "text/html": "<div>\n<style scoped>\n    .dataframe tbody tr th:only-of-type {\n        vertical-align: middle;\n    }\n\n    .dataframe tbody tr th {\n        vertical-align: top;\n    }\n\n    .dataframe thead th {\n        text-align: right;\n    }\n</style>\n<table border=\"1\" class=\"dataframe\">\n  <thead>\n    <tr style=\"text-align: right;\">\n      <th></th>\n      <th>Repository Name</th>\n      <th>Description</th>\n      <th>Language</th>\n      <th>Url</th>\n      <th>Tags</th>\n      <th>Timestamp</th>\n    </tr>\n  </thead>\n  <tbody>\n    <tr>\n      <th>0</th>\n      <td>freeCodeCamp</td>\n      <td>The https://freeCodeCamp.com open source codeb...</td>\n      <td>JavaScript</td>\n      <td>https://github.com/freeCodeCamp/freeCodeCamp</td>\n      <td>nonprofits,certification,curriculum,react,node...</td>\n      <td>2020-08-20 22:41:12.177510</td>\n    </tr>\n    <tr>\n      <th>1</th>\n      <td>bootstrap</td>\n      <td>The most popular HTML, CSS, and JavaScript fra...</td>\n      <td>JavaScript</td>\n      <td>https://github.com/twbs/bootstrap</td>\n      <td>javascript,css,html,bootstrap,jekyll-site,scss</td>\n      <td>2020-08-20 22:41:12.177510</td>\n    </tr>\n    <tr>\n      <th>2</th>\n      <td>free-programming-books</td>\n      <td>Freely available programming books</td>\n      <td></td>\n      <td>https://github.com/EbookFoundation/free-progra...</td>\n      <td>education,list,books,resource</td>\n      <td>2020-08-20 22:41:12.177510</td>\n    </tr>\n    <tr>\n      <th>3</th>\n      <td>react</td>\n      <td>A declarative, efficient, and flexible JavaScr...</td>\n      <td>JavaScript</td>\n      <td>https://github.com/facebook/react</td>\n      <td></td>\n      <td>2020-08-20 22:41:12.177510</td>\n    </tr>\n    <tr>\n      <th>4</th>\n      <td>d3</td>\n      <td>Bring data to life with SVG, Canvas and HTML.</td>\n      <td>JavaScript</td>\n      <td>https://github.com/d3/d3</td>\n      <td>visualization</td>\n      <td>2020-08-20 22:41:12.177510</td>\n    </tr>\n  </tbody>\n</table>\n</div>"
     },
     "metadata": {},
     "execution_count": 7
    }
   ],
   "source": [
    "df_important = df[columns]\n",
    "df_important.fillna('', inplace=True)\n",
    "df_important[\"Timestamp\"] = \"2020-08-20 22:41:12.177510\"\n",
    "\n",
    "df_important.head(5)"
   ]
  },
  {
   "cell_type": "code",
   "execution_count": 8,
   "metadata": {},
   "outputs": [
    {
     "output_type": "execute_result",
     "data": {
      "text/plain": "                    title                                        description  \\\n0            freeCodeCamp  The https://freeCodeCamp.com open source codeb...   \n1               bootstrap  The most popular HTML, CSS, and JavaScript fra...   \n2  free-programming-books                 Freely available programming books   \n3                   react  A declarative, efficient, and flexible JavaScr...   \n4                      d3     Bring data to life with SVG, Canvas and HTML.    \n\n     language                                            git_url  \\\n0  JavaScript       https://github.com/freeCodeCamp/freeCodeCamp   \n1  JavaScript                  https://github.com/twbs/bootstrap   \n2              https://github.com/EbookFoundation/free-progra...   \n3  JavaScript                  https://github.com/facebook/react   \n4  JavaScript                           https://github.com/d3/d3   \n\n                                                tags  \\\n0  nonprofits certification curriculum react node...   \n1      javascript css html bootstrap jekyllsite scss   \n2                      education list books resource   \n3                                                      \n4                                      visualization   \n\n                    timestamp  user_id  \n0  2020-08-20 22:41:12.177510        6  \n1  2020-08-20 22:41:12.177510        7  \n2  2020-08-20 22:41:12.177510        8  \n3  2020-08-20 22:41:12.177510        9  \n4  2020-08-20 22:41:12.177510       10  ",
      "text/html": "<div>\n<style scoped>\n    .dataframe tbody tr th:only-of-type {\n        vertical-align: middle;\n    }\n\n    .dataframe tbody tr th {\n        vertical-align: top;\n    }\n\n    .dataframe thead th {\n        text-align: right;\n    }\n</style>\n<table border=\"1\" class=\"dataframe\">\n  <thead>\n    <tr style=\"text-align: right;\">\n      <th></th>\n      <th>title</th>\n      <th>description</th>\n      <th>language</th>\n      <th>git_url</th>\n      <th>tags</th>\n      <th>timestamp</th>\n      <th>user_id</th>\n    </tr>\n  </thead>\n  <tbody>\n    <tr>\n      <th>0</th>\n      <td>freeCodeCamp</td>\n      <td>The https://freeCodeCamp.com open source codeb...</td>\n      <td>JavaScript</td>\n      <td>https://github.com/freeCodeCamp/freeCodeCamp</td>\n      <td>nonprofits certification curriculum react node...</td>\n      <td>2020-08-20 22:41:12.177510</td>\n      <td>6</td>\n    </tr>\n    <tr>\n      <th>1</th>\n      <td>bootstrap</td>\n      <td>The most popular HTML, CSS, and JavaScript fra...</td>\n      <td>JavaScript</td>\n      <td>https://github.com/twbs/bootstrap</td>\n      <td>javascript css html bootstrap jekyllsite scss</td>\n      <td>2020-08-20 22:41:12.177510</td>\n      <td>7</td>\n    </tr>\n    <tr>\n      <th>2</th>\n      <td>free-programming-books</td>\n      <td>Freely available programming books</td>\n      <td></td>\n      <td>https://github.com/EbookFoundation/free-progra...</td>\n      <td>education list books resource</td>\n      <td>2020-08-20 22:41:12.177510</td>\n      <td>8</td>\n    </tr>\n    <tr>\n      <th>3</th>\n      <td>react</td>\n      <td>A declarative, efficient, and flexible JavaScr...</td>\n      <td>JavaScript</td>\n      <td>https://github.com/facebook/react</td>\n      <td></td>\n      <td>2020-08-20 22:41:12.177510</td>\n      <td>9</td>\n    </tr>\n    <tr>\n      <th>4</th>\n      <td>d3</td>\n      <td>Bring data to life with SVG, Canvas and HTML.</td>\n      <td>JavaScript</td>\n      <td>https://github.com/d3/d3</td>\n      <td>visualization</td>\n      <td>2020-08-20 22:41:12.177510</td>\n      <td>10</td>\n    </tr>\n  </tbody>\n</table>\n</div>"
     },
     "metadata": {},
     "execution_count": 8
    }
   ],
   "source": [
    "df_important.rename(columns={\"Repository Name\": \"title\", \"Description\": \"description\", \"Language\": \"language\", \"Tags\": \"tags\", \"Url\": \"git_url\", \"Timestamp\": \"timestamp\"}, inplace=True)\n",
    "df_important[['tags']] = df_important[['tags']].applymap(lambda x: ' '.join(x.split(',')))\n",
    "df_important[['tags']] = df_important[['tags']].applymap(lambda x: ''.join(x.split('-')))\n",
    "df_important['user_id'] = np.arange(6, len(df_important) + 6)\n",
    "df_important.head(5)"
   ]
  },
  {
   "cell_type": "code",
   "execution_count": 9,
   "metadata": {},
   "outputs": [],
   "source": [
    "engine = create_engine('sqlite:///app.db')"
   ]
  },
  {
   "cell_type": "code",
   "execution_count": 10,
   "metadata": {},
   "outputs": [],
   "source": [
    "#df_important.to_sql(con=engine, name='project', if_exists='append', index=False, )"
   ]
  },
  {
   "cell_type": "code",
   "execution_count": 12,
   "metadata": {},
   "outputs": [
    {
     "output_type": "execute_result",
     "data": {
      "text/plain": "                    title                                        description  \\\n0            freeCodeCamp  The https://freeCodeCamp.com open source codeb...   \n1               bootstrap  The most popular HTML, CSS, and JavaScript fra...   \n2  free-programming-books                 Freely available programming books   \n3                   react  A declarative, efficient, and flexible JavaScr...   \n4                      d3     Bring data to life with SVG, Canvas and HTML.    \n\n     language                                            git_url  \\\n0  JavaScript       https://github.com/freeCodeCamp/freeCodeCamp   \n1  JavaScript                  https://github.com/twbs/bootstrap   \n2              https://github.com/EbookFoundation/free-progra...   \n3  JavaScript                  https://github.com/facebook/react   \n4  JavaScript                           https://github.com/d3/d3   \n\n                                                tags  \\\n0  nonprofits certification curriculum react node...   \n1      javascript css html bootstrap jekyllsite scss   \n2                      education list books resource   \n3                                                      \n4                                      visualization   \n\n                    timestamp  user_id  \n0  2020-08-20 22:41:12.177510        6  \n1  2020-08-20 22:41:12.177510        6  \n2  2020-08-20 22:41:12.177510        6  \n3  2020-08-20 22:41:12.177510        6  \n4  2020-08-20 22:41:12.177510        6  ",
      "text/html": "<div>\n<style scoped>\n    .dataframe tbody tr th:only-of-type {\n        vertical-align: middle;\n    }\n\n    .dataframe tbody tr th {\n        vertical-align: top;\n    }\n\n    .dataframe thead th {\n        text-align: right;\n    }\n</style>\n<table border=\"1\" class=\"dataframe\">\n  <thead>\n    <tr style=\"text-align: right;\">\n      <th></th>\n      <th>title</th>\n      <th>description</th>\n      <th>language</th>\n      <th>git_url</th>\n      <th>tags</th>\n      <th>timestamp</th>\n      <th>user_id</th>\n    </tr>\n  </thead>\n  <tbody>\n    <tr>\n      <th>0</th>\n      <td>freeCodeCamp</td>\n      <td>The https://freeCodeCamp.com open source codeb...</td>\n      <td>JavaScript</td>\n      <td>https://github.com/freeCodeCamp/freeCodeCamp</td>\n      <td>nonprofits certification curriculum react node...</td>\n      <td>2020-08-20 22:41:12.177510</td>\n      <td>6</td>\n    </tr>\n    <tr>\n      <th>1</th>\n      <td>bootstrap</td>\n      <td>The most popular HTML, CSS, and JavaScript fra...</td>\n      <td>JavaScript</td>\n      <td>https://github.com/twbs/bootstrap</td>\n      <td>javascript css html bootstrap jekyllsite scss</td>\n      <td>2020-08-20 22:41:12.177510</td>\n      <td>6</td>\n    </tr>\n    <tr>\n      <th>2</th>\n      <td>free-programming-books</td>\n      <td>Freely available programming books</td>\n      <td></td>\n      <td>https://github.com/EbookFoundation/free-progra...</td>\n      <td>education list books resource</td>\n      <td>2020-08-20 22:41:12.177510</td>\n      <td>6</td>\n    </tr>\n    <tr>\n      <th>3</th>\n      <td>react</td>\n      <td>A declarative, efficient, and flexible JavaScr...</td>\n      <td>JavaScript</td>\n      <td>https://github.com/facebook/react</td>\n      <td></td>\n      <td>2020-08-20 22:41:12.177510</td>\n      <td>6</td>\n    </tr>\n    <tr>\n      <th>4</th>\n      <td>d3</td>\n      <td>Bring data to life with SVG, Canvas and HTML.</td>\n      <td>JavaScript</td>\n      <td>https://github.com/d3/d3</td>\n      <td>visualization</td>\n      <td>2020-08-20 22:41:12.177510</td>\n      <td>6</td>\n    </tr>\n  </tbody>\n</table>\n</div>"
     },
     "metadata": {},
     "execution_count": 12
    }
   ],
   "source": [
    "df_with_user = df_important\n",
    "df_with_user['user_id'] = 6\n",
    "df_with_user.head(5)"
   ]
  },
  {
   "cell_type": "code",
   "execution_count": 13,
   "metadata": {},
   "outputs": [],
   "source": [
    "df_with_user.to_sql(con=engine, name='project', if_exists='append', index=False, )"
   ]
  },
  {
   "cell_type": "code",
   "execution_count": null,
   "metadata": {},
   "outputs": [],
   "source": []
  }
 ]
}