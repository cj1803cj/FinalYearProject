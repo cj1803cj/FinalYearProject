{
 "metadata": {
  "language_info": {
   "codemirror_mode": {
    "name": "ipython",
    "version": 3
   },
   "file_extension": ".py",
   "mimetype": "text/x-python",
   "name": "python",
   "nbconvert_exporter": "python",
   "pygments_lexer": "ipython3",
   "version": "3.7.7-final"
  },
  "orig_nbformat": 2,
  "kernelspec": {
   "name": "python_defaultSpec_1598023829605",
   "display_name": "Python 3.7.7 64-bit ('py37': conda)"
  }
 },
 "nbformat": 4,
 "nbformat_minor": 2,
 "cells": [
  {
   "cell_type": "code",
   "execution_count": 4,
   "metadata": {},
   "outputs": [],
   "source": [
    "# imports for required libraries\n",
    "import pandas as pd\n",
    "import numpy as np\n",
    "from sklearn.metrics.pairwise import cosine_similarity\n",
    "from sklearn.feature_extraction.text import CountVectorizer\n",
    "import pickle\n",
    "\n",
    "from sqlalchemy import create_engine"
   ]
  },
  {
   "cell_type": "code",
   "execution_count": 5,
   "metadata": {},
   "outputs": [],
   "source": [
    "engine = create_engine('sqlite:///app.db')"
   ]
  },
  {
   "cell_type": "markdown",
   "metadata": {},
   "source": [
    "## Load data from SQL to pandas dataframe\n",
    "The following cell will issue a query on the database and assign the result to a dataframe"
   ]
  },
  {
   "cell_type": "code",
   "execution_count": 80,
   "metadata": {},
   "outputs": [
    {
     "output_type": "execute_result",
     "data": {
      "text/plain": "   rater_id  project_id language\n0         5          16      C++\n1         2          11    Shell\n2         6          11    Shell\n3         2         980    Swift\n4         2          22      C++",
      "text/html": "<div>\n<style scoped>\n    .dataframe tbody tr th:only-of-type {\n        vertical-align: middle;\n    }\n\n    .dataframe tbody tr th {\n        vertical-align: top;\n    }\n\n    .dataframe thead th {\n        text-align: right;\n    }\n</style>\n<table border=\"1\" class=\"dataframe\">\n  <thead>\n    <tr style=\"text-align: right;\">\n      <th></th>\n      <th>rater_id</th>\n      <th>project_id</th>\n      <th>language</th>\n    </tr>\n  </thead>\n  <tbody>\n    <tr>\n      <th>0</th>\n      <td>5</td>\n      <td>16</td>\n      <td>C++</td>\n    </tr>\n    <tr>\n      <th>1</th>\n      <td>2</td>\n      <td>11</td>\n      <td>Shell</td>\n    </tr>\n    <tr>\n      <th>2</th>\n      <td>6</td>\n      <td>11</td>\n      <td>Shell</td>\n    </tr>\n    <tr>\n      <th>3</th>\n      <td>2</td>\n      <td>980</td>\n      <td>Swift</td>\n    </tr>\n    <tr>\n      <th>4</th>\n      <td>2</td>\n      <td>22</td>\n      <td>C++</td>\n    </tr>\n  </tbody>\n</table>\n</div>"
     },
     "metadata": {},
     "execution_count": 80
    }
   ],
   "source": [
    "df = pd.read_sql('SELECT rater_id, project_id, language FROM ratings JOIN project on project_id = id', con=engine)\n",
    "df.head(5)"
   ]
  },
  {
   "cell_type": "code",
   "execution_count": 95,
   "metadata": {},
   "outputs": [
    {
     "output_type": "execute_result",
     "data": {
      "text/plain": "0    1\n1    2\n2    3\n3    4\n4    5\n5    6\n6    7\nName: id, dtype: int64"
     },
     "metadata": {},
     "execution_count": 95
    }
   ],
   "source": [
    "users = pd.read_sql('SELECT * FROM user', con=engine)\n",
    "users['id']"
   ]
  },
  {
   "cell_type": "code",
   "execution_count": 82,
   "metadata": {},
   "outputs": [
    {
     "output_type": "execute_result",
     "data": {
      "text/plain": "<bound method NDFrame.head of rater_id\n1    Python Python Python JavaScript JavaScript HTM...\n2    Shell Swift C++ Swift JavaScript Swift JavaScr...\n3                       Vue Vue  CSS JavaScript Python\n4                 Java Java Kotlin Java Ruby Ruby Ruby\n5                                                  C++\n6                                                Shell\n7    JavaScript TypeScript CSS CSS HTML HTML Python...\nName: language, dtype: object>"
     },
     "metadata": {},
     "execution_count": 82
    }
   ],
   "source": [
    "corpus = df.groupby('rater_id')['language'].apply(' '.join)\n",
    "corpus.head"
   ]
  },
  {
   "cell_type": "code",
   "execution_count": null,
   "metadata": {},
   "outputs": [],
   "source": [
    "\n",
    "corpus = df.groupby('rater_id')['language'].apply(' '.join)\n",
    "corpus.head"
   ]
  },
  {
   "cell_type": "code",
   "execution_count": 83,
   "metadata": {},
   "outputs": [],
   "source": [
    "cv_params = CountVectorizer(token_pattern = '[a-zA-Z0-9$&+,:;=?@#|<>.^*()%!-]+')"
   ]
  },
  {
   "cell_type": "code",
   "execution_count": 84,
   "metadata": {},
   "outputs": [],
   "source": [
    "cv = cv_params.fit_transform(corpus)"
   ]
  },
  {
   "cell_type": "code",
   "execution_count": 85,
   "metadata": {},
   "outputs": [
    {
     "output_type": "execute_result",
     "data": {
      "text/plain": "   c++  css  html  java  javascript  kotlin  python  ruby  shell  swift  \\\n0    0    2     1     0           2       0       3     0      0      0   \n1    1    0     0     0           3       0       0     0      1      3   \n2    0    1     0     0           1       0       1     0      0      0   \n3    0    0     0     3           0       1       0     3      0      0   \n4    1    0     0     0           0       0       0     0      0      0   \n5    0    0     0     0           0       0       0     0      1      0   \n6    1    2     2     0           1       0       1     0      0      0   \n\n   typescript  vue  \n0           0    0  \n1           0    0  \n2           0    2  \n3           0    0  \n4           0    0  \n5           0    0  \n6           1    0  ",
      "text/html": "<div>\n<style scoped>\n    .dataframe tbody tr th:only-of-type {\n        vertical-align: middle;\n    }\n\n    .dataframe tbody tr th {\n        vertical-align: top;\n    }\n\n    .dataframe thead th {\n        text-align: right;\n    }\n</style>\n<table border=\"1\" class=\"dataframe\">\n  <thead>\n    <tr style=\"text-align: right;\">\n      <th></th>\n      <th>c++</th>\n      <th>css</th>\n      <th>html</th>\n      <th>java</th>\n      <th>javascript</th>\n      <th>kotlin</th>\n      <th>python</th>\n      <th>ruby</th>\n      <th>shell</th>\n      <th>swift</th>\n      <th>typescript</th>\n      <th>vue</th>\n    </tr>\n  </thead>\n  <tbody>\n    <tr>\n      <th>0</th>\n      <td>0</td>\n      <td>2</td>\n      <td>1</td>\n      <td>0</td>\n      <td>2</td>\n      <td>0</td>\n      <td>3</td>\n      <td>0</td>\n      <td>0</td>\n      <td>0</td>\n      <td>0</td>\n      <td>0</td>\n    </tr>\n    <tr>\n      <th>1</th>\n      <td>1</td>\n      <td>0</td>\n      <td>0</td>\n      <td>0</td>\n      <td>3</td>\n      <td>0</td>\n      <td>0</td>\n      <td>0</td>\n      <td>1</td>\n      <td>3</td>\n      <td>0</td>\n      <td>0</td>\n    </tr>\n    <tr>\n      <th>2</th>\n      <td>0</td>\n      <td>1</td>\n      <td>0</td>\n      <td>0</td>\n      <td>1</td>\n      <td>0</td>\n      <td>1</td>\n      <td>0</td>\n      <td>0</td>\n      <td>0</td>\n      <td>0</td>\n      <td>2</td>\n    </tr>\n    <tr>\n      <th>3</th>\n      <td>0</td>\n      <td>0</td>\n      <td>0</td>\n      <td>3</td>\n      <td>0</td>\n      <td>1</td>\n      <td>0</td>\n      <td>3</td>\n      <td>0</td>\n      <td>0</td>\n      <td>0</td>\n      <td>0</td>\n    </tr>\n    <tr>\n      <th>4</th>\n      <td>1</td>\n      <td>0</td>\n      <td>0</td>\n      <td>0</td>\n      <td>0</td>\n      <td>0</td>\n      <td>0</td>\n      <td>0</td>\n      <td>0</td>\n      <td>0</td>\n      <td>0</td>\n      <td>0</td>\n    </tr>\n    <tr>\n      <th>5</th>\n      <td>0</td>\n      <td>0</td>\n      <td>0</td>\n      <td>0</td>\n      <td>0</td>\n      <td>0</td>\n      <td>0</td>\n      <td>0</td>\n      <td>1</td>\n      <td>0</td>\n      <td>0</td>\n      <td>0</td>\n    </tr>\n    <tr>\n      <th>6</th>\n      <td>1</td>\n      <td>2</td>\n      <td>2</td>\n      <td>0</td>\n      <td>1</td>\n      <td>0</td>\n      <td>1</td>\n      <td>0</td>\n      <td>0</td>\n      <td>0</td>\n      <td>1</td>\n      <td>0</td>\n    </tr>\n  </tbody>\n</table>\n</div>"
     },
     "metadata": {},
     "execution_count": 85
    }
   ],
   "source": [
    "pd.DataFrame(cv.toarray(), columns=cv_params.get_feature_names())"
   ]
  },
  {
   "cell_type": "code",
   "execution_count": 86,
   "metadata": {},
   "outputs": [],
   "source": [
    "pickle.dump(cv, open('count_vectorizer.pickle', 'wb'))"
   ]
  },
  {
   "cell_type": "code",
   "execution_count": 87,
   "metadata": {},
   "outputs": [],
   "source": [
    "vect_cos_sim = cosine_similarity(cv, cv)"
   ]
  },
  {
   "cell_type": "markdown",
   "metadata": {},
   "source": [
    "Show cosine similarity matrix"
   ]
  },
  {
   "cell_type": "code",
   "execution_count": 88,
   "metadata": {},
   "outputs": [
    {
     "output_type": "execute_result",
     "data": {
      "text/plain": "          0         1         2    3         4         5         6\n0  1.000000  0.316228  0.623610  0.0  0.000000  0.000000  0.748455\n1  0.316228  1.000000  0.253546  0.0  0.223607  0.223607  0.258199\n2  0.623610  0.253546  1.000000  0.0  0.000000  0.000000  0.436436\n3  0.000000  0.000000  0.000000  1.0  0.000000  0.000000  0.000000\n4  0.000000  0.223607  0.000000  0.0  1.000000  0.000000  0.288675\n5  0.000000  0.223607  0.000000  0.0  0.000000  1.000000  0.000000\n6  0.748455  0.258199  0.436436  0.0  0.288675  0.000000  1.000000",
      "text/html": "<div>\n<style scoped>\n    .dataframe tbody tr th:only-of-type {\n        vertical-align: middle;\n    }\n\n    .dataframe tbody tr th {\n        vertical-align: top;\n    }\n\n    .dataframe thead th {\n        text-align: right;\n    }\n</style>\n<table border=\"1\" class=\"dataframe\">\n  <thead>\n    <tr style=\"text-align: right;\">\n      <th></th>\n      <th>0</th>\n      <th>1</th>\n      <th>2</th>\n      <th>3</th>\n      <th>4</th>\n      <th>5</th>\n      <th>6</th>\n    </tr>\n  </thead>\n  <tbody>\n    <tr>\n      <th>0</th>\n      <td>1.000000</td>\n      <td>0.316228</td>\n      <td>0.623610</td>\n      <td>0.0</td>\n      <td>0.000000</td>\n      <td>0.000000</td>\n      <td>0.748455</td>\n    </tr>\n    <tr>\n      <th>1</th>\n      <td>0.316228</td>\n      <td>1.000000</td>\n      <td>0.253546</td>\n      <td>0.0</td>\n      <td>0.223607</td>\n      <td>0.223607</td>\n      <td>0.258199</td>\n    </tr>\n    <tr>\n      <th>2</th>\n      <td>0.623610</td>\n      <td>0.253546</td>\n      <td>1.000000</td>\n      <td>0.0</td>\n      <td>0.000000</td>\n      <td>0.000000</td>\n      <td>0.436436</td>\n    </tr>\n    <tr>\n      <th>3</th>\n      <td>0.000000</td>\n      <td>0.000000</td>\n      <td>0.000000</td>\n      <td>1.0</td>\n      <td>0.000000</td>\n      <td>0.000000</td>\n      <td>0.000000</td>\n    </tr>\n    <tr>\n      <th>4</th>\n      <td>0.000000</td>\n      <td>0.223607</td>\n      <td>0.000000</td>\n      <td>0.0</td>\n      <td>1.000000</td>\n      <td>0.000000</td>\n      <td>0.288675</td>\n    </tr>\n    <tr>\n      <th>5</th>\n      <td>0.000000</td>\n      <td>0.223607</td>\n      <td>0.000000</td>\n      <td>0.0</td>\n      <td>0.000000</td>\n      <td>1.000000</td>\n      <td>0.000000</td>\n    </tr>\n    <tr>\n      <th>6</th>\n      <td>0.748455</td>\n      <td>0.258199</td>\n      <td>0.436436</td>\n      <td>0.0</td>\n      <td>0.288675</td>\n      <td>0.000000</td>\n      <td>1.000000</td>\n    </tr>\n  </tbody>\n</table>\n</div>"
     },
     "metadata": {},
     "execution_count": 88
    }
   ],
   "source": [
    "result = pd.DataFrame(data=vect_cos_sim)\n",
    "result"
   ]
  },
  {
   "cell_type": "markdown",
   "metadata": {},
   "source": [
    "Shift index and column numbers up by 1"
   ]
  },
  {
   "cell_type": "code",
   "execution_count": 89,
   "metadata": {},
   "outputs": [
    {
     "output_type": "execute_result",
     "data": {
      "text/plain": "          1         2         3    4         5         6         7\n1  1.000000  0.316228  0.623610  0.0  0.000000  0.000000  0.748455\n2  0.316228  1.000000  0.253546  0.0  0.223607  0.223607  0.258199\n3  0.623610  0.253546  1.000000  0.0  0.000000  0.000000  0.436436\n4  0.000000  0.000000  0.000000  1.0  0.000000  0.000000  0.000000\n5  0.000000  0.223607  0.000000  0.0  1.000000  0.000000  0.288675\n6  0.000000  0.223607  0.000000  0.0  0.000000  1.000000  0.000000\n7  0.748455  0.258199  0.436436  0.0  0.288675  0.000000  1.000000",
      "text/html": "<div>\n<style scoped>\n    .dataframe tbody tr th:only-of-type {\n        vertical-align: middle;\n    }\n\n    .dataframe tbody tr th {\n        vertical-align: top;\n    }\n\n    .dataframe thead th {\n        text-align: right;\n    }\n</style>\n<table border=\"1\" class=\"dataframe\">\n  <thead>\n    <tr style=\"text-align: right;\">\n      <th></th>\n      <th>1</th>\n      <th>2</th>\n      <th>3</th>\n      <th>4</th>\n      <th>5</th>\n      <th>6</th>\n      <th>7</th>\n    </tr>\n  </thead>\n  <tbody>\n    <tr>\n      <th>1</th>\n      <td>1.000000</td>\n      <td>0.316228</td>\n      <td>0.623610</td>\n      <td>0.0</td>\n      <td>0.000000</td>\n      <td>0.000000</td>\n      <td>0.748455</td>\n    </tr>\n    <tr>\n      <th>2</th>\n      <td>0.316228</td>\n      <td>1.000000</td>\n      <td>0.253546</td>\n      <td>0.0</td>\n      <td>0.223607</td>\n      <td>0.223607</td>\n      <td>0.258199</td>\n    </tr>\n    <tr>\n      <th>3</th>\n      <td>0.623610</td>\n      <td>0.253546</td>\n      <td>1.000000</td>\n      <td>0.0</td>\n      <td>0.000000</td>\n      <td>0.000000</td>\n      <td>0.436436</td>\n    </tr>\n    <tr>\n      <th>4</th>\n      <td>0.000000</td>\n      <td>0.000000</td>\n      <td>0.000000</td>\n      <td>1.0</td>\n      <td>0.000000</td>\n      <td>0.000000</td>\n      <td>0.000000</td>\n    </tr>\n    <tr>\n      <th>5</th>\n      <td>0.000000</td>\n      <td>0.223607</td>\n      <td>0.000000</td>\n      <td>0.0</td>\n      <td>1.000000</td>\n      <td>0.000000</td>\n      <td>0.288675</td>\n    </tr>\n    <tr>\n      <th>6</th>\n      <td>0.000000</td>\n      <td>0.223607</td>\n      <td>0.000000</td>\n      <td>0.0</td>\n      <td>0.000000</td>\n      <td>1.000000</td>\n      <td>0.000000</td>\n    </tr>\n    <tr>\n      <th>7</th>\n      <td>0.748455</td>\n      <td>0.258199</td>\n      <td>0.436436</td>\n      <td>0.0</td>\n      <td>0.288675</td>\n      <td>0.000000</td>\n      <td>1.000000</td>\n    </tr>\n  </tbody>\n</table>\n</div>"
     },
     "metadata": {},
     "execution_count": 89
    }
   ],
   "source": [
    "result.index += 1\n",
    "result.columns += 1\n",
    "result"
   ]
  },
  {
   "cell_type": "code",
   "execution_count": null,
   "metadata": {},
   "outputs": [],
   "source": []
  }
 ]
}