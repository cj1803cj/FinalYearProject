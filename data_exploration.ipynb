{
 "metadata": {
  "language_info": {
   "codemirror_mode": {
    "name": "ipython",
    "version": 3
   },
   "file_extension": ".py",
   "mimetype": "text/x-python",
   "name": "python",
   "nbconvert_exporter": "python",
   "pygments_lexer": "ipython3",
   "version": "3.7.7-final"
  },
  "orig_nbformat": 2,
  "kernelspec": {
   "name": "python_defaultSpec_1597582667701",
   "display_name": "Python 3.7.7 64-bit ('py37': conda)"
  }
 },
 "nbformat": 4,
 "nbformat_minor": 2,
 "cells": [
  {
   "cell_type": "code",
   "execution_count": 134,
   "metadata": {},
   "outputs": [],
   "source": [
    "# imports for required libraries\n",
    "import pandas as pd\n",
    "from sklearn.metrics.pairwise import cosine_similarity\n",
    "from sklearn.feature_extraction.text import TfidfVectorizer\n",
    "import pickle"
   ]
  },
  {
   "cell_type": "code",
   "execution_count": 109,
   "metadata": {},
   "outputs": [],
   "source": [
    "# load datased as pandas dataframe\n",
    "df = pd.read_csv('TopStaredRepositories.csv')"
   ]
  },
  {
   "cell_type": "code",
   "execution_count": 110,
   "metadata": {},
   "outputs": [
    {
     "output_type": "execute_result",
     "data": {
      "text/plain": "          Username         Repository Name  \\\n0     freeCodeCamp            freeCodeCamp   \n1             twbs               bootstrap   \n2  EbookFoundation  free-programming-books   \n3         facebook                   react   \n4               d3                      d3   \n\n                                         Description      Last Update Date  \\\n0  The https://freeCodeCamp.com open source codeb...  2017-06-24T15:56:17Z   \n1  The most popular HTML, CSS, and JavaScript fra...  2017-06-24T15:40:21Z   \n2                 Freely available programming books  2017-06-23T01:09:34Z   \n3  A declarative, efficient, and flexible JavaScr...  2017-06-24T19:33:49Z   \n4     Bring data to life with SVG, Canvas and HTML.   2017-05-31T06:03:47Z   \n\n     Language Number of Stars  \\\n0  JavaScript            290k   \n1  JavaScript            112k   \n2         NaN           87.8k   \n3  JavaScript           69.7k   \n4  JavaScript           65.7k   \n\n                                                Tags  \\\n0  nonprofits,certification,curriculum,react,node...   \n1     javascript,css,html,bootstrap,jekyll-site,scss   \n2                      education,list,books,resource   \n3                                                NaN   \n4                                      visualization   \n\n                                                 Url  \\\n0       https://github.com/freeCodeCamp/freeCodeCamp   \n1                  https://github.com/twbs/bootstrap   \n2  https://github.com/EbookFoundation/free-progra...   \n3                  https://github.com/facebook/react   \n4                           https://github.com/d3/d3   \n\n                                            Gravatar  \n0  https://avatars0.githubusercontent.com/u/98925...  \n1  https://avatars0.githubusercontent.com/u/29185...  \n2  https://avatars0.githubusercontent.com/u/14127...  \n3  https://avatars3.githubusercontent.com/u/69631...  \n4  https://avatars1.githubusercontent.com/u/15627...  ",
      "text/html": "<div>\n<style scoped>\n    .dataframe tbody tr th:only-of-type {\n        vertical-align: middle;\n    }\n\n    .dataframe tbody tr th {\n        vertical-align: top;\n    }\n\n    .dataframe thead th {\n        text-align: right;\n    }\n</style>\n<table border=\"1\" class=\"dataframe\">\n  <thead>\n    <tr style=\"text-align: right;\">\n      <th></th>\n      <th>Username</th>\n      <th>Repository Name</th>\n      <th>Description</th>\n      <th>Last Update Date</th>\n      <th>Language</th>\n      <th>Number of Stars</th>\n      <th>Tags</th>\n      <th>Url</th>\n      <th>Gravatar</th>\n    </tr>\n  </thead>\n  <tbody>\n    <tr>\n      <th>0</th>\n      <td>freeCodeCamp</td>\n      <td>freeCodeCamp</td>\n      <td>The https://freeCodeCamp.com open source codeb...</td>\n      <td>2017-06-24T15:56:17Z</td>\n      <td>JavaScript</td>\n      <td>290k</td>\n      <td>nonprofits,certification,curriculum,react,node...</td>\n      <td>https://github.com/freeCodeCamp/freeCodeCamp</td>\n      <td>https://avatars0.githubusercontent.com/u/98925...</td>\n    </tr>\n    <tr>\n      <th>1</th>\n      <td>twbs</td>\n      <td>bootstrap</td>\n      <td>The most popular HTML, CSS, and JavaScript fra...</td>\n      <td>2017-06-24T15:40:21Z</td>\n      <td>JavaScript</td>\n      <td>112k</td>\n      <td>javascript,css,html,bootstrap,jekyll-site,scss</td>\n      <td>https://github.com/twbs/bootstrap</td>\n      <td>https://avatars0.githubusercontent.com/u/29185...</td>\n    </tr>\n    <tr>\n      <th>2</th>\n      <td>EbookFoundation</td>\n      <td>free-programming-books</td>\n      <td>Freely available programming books</td>\n      <td>2017-06-23T01:09:34Z</td>\n      <td>NaN</td>\n      <td>87.8k</td>\n      <td>education,list,books,resource</td>\n      <td>https://github.com/EbookFoundation/free-progra...</td>\n      <td>https://avatars0.githubusercontent.com/u/14127...</td>\n    </tr>\n    <tr>\n      <th>3</th>\n      <td>facebook</td>\n      <td>react</td>\n      <td>A declarative, efficient, and flexible JavaScr...</td>\n      <td>2017-06-24T19:33:49Z</td>\n      <td>JavaScript</td>\n      <td>69.7k</td>\n      <td>NaN</td>\n      <td>https://github.com/facebook/react</td>\n      <td>https://avatars3.githubusercontent.com/u/69631...</td>\n    </tr>\n    <tr>\n      <th>4</th>\n      <td>d3</td>\n      <td>d3</td>\n      <td>Bring data to life with SVG, Canvas and HTML.</td>\n      <td>2017-05-31T06:03:47Z</td>\n      <td>JavaScript</td>\n      <td>65.7k</td>\n      <td>visualization</td>\n      <td>https://github.com/d3/d3</td>\n      <td>https://avatars1.githubusercontent.com/u/15627...</td>\n    </tr>\n  </tbody>\n</table>\n</div>"
     },
     "metadata": {},
     "execution_count": 110
    }
   ],
   "source": [
    "# print first 5 rows of dataset\n",
    "df.head(5)"
   ]
  },
  {
   "cell_type": "code",
   "execution_count": 111,
   "metadata": {},
   "outputs": [
    {
     "output_type": "execute_result",
     "data": {
      "text/plain": "(980, 9)"
     },
     "metadata": {},
     "execution_count": 111
    }
   ],
   "source": [
    "# print number of rows and columns in dataset, 980 and 9 respectively\n",
    "df.shape"
   ]
  },
  {
   "cell_type": "code",
   "execution_count": 112,
   "metadata": {},
   "outputs": [
    {
     "output_type": "execute_result",
     "data": {
      "text/plain": "          Repository Name                                        Description  \\\n0            freeCodeCamp  The https://freeCodeCamp.com open source codeb...   \n1               bootstrap  The most popular HTML, CSS, and JavaScript fra...   \n2  free-programming-books                 Freely available programming books   \n3                   react  A declarative, efficient, and flexible JavaScr...   \n4                      d3     Bring data to life with SVG, Canvas and HTML.    \n\n     Language                                               Tags  \n0  JavaScript  nonprofits,certification,curriculum,react,node...  \n1  JavaScript     javascript,css,html,bootstrap,jekyll-site,scss  \n2         NaN                      education,list,books,resource  \n3  JavaScript                                                NaN  \n4  JavaScript                                      visualization  ",
      "text/html": "<div>\n<style scoped>\n    .dataframe tbody tr th:only-of-type {\n        vertical-align: middle;\n    }\n\n    .dataframe tbody tr th {\n        vertical-align: top;\n    }\n\n    .dataframe thead th {\n        text-align: right;\n    }\n</style>\n<table border=\"1\" class=\"dataframe\">\n  <thead>\n    <tr style=\"text-align: right;\">\n      <th></th>\n      <th>Repository Name</th>\n      <th>Description</th>\n      <th>Language</th>\n      <th>Tags</th>\n    </tr>\n  </thead>\n  <tbody>\n    <tr>\n      <th>0</th>\n      <td>freeCodeCamp</td>\n      <td>The https://freeCodeCamp.com open source codeb...</td>\n      <td>JavaScript</td>\n      <td>nonprofits,certification,curriculum,react,node...</td>\n    </tr>\n    <tr>\n      <th>1</th>\n      <td>bootstrap</td>\n      <td>The most popular HTML, CSS, and JavaScript fra...</td>\n      <td>JavaScript</td>\n      <td>javascript,css,html,bootstrap,jekyll-site,scss</td>\n    </tr>\n    <tr>\n      <th>2</th>\n      <td>free-programming-books</td>\n      <td>Freely available programming books</td>\n      <td>NaN</td>\n      <td>education,list,books,resource</td>\n    </tr>\n    <tr>\n      <th>3</th>\n      <td>react</td>\n      <td>A declarative, efficient, and flexible JavaScr...</td>\n      <td>JavaScript</td>\n      <td>NaN</td>\n    </tr>\n    <tr>\n      <th>4</th>\n      <td>d3</td>\n      <td>Bring data to life with SVG, Canvas and HTML.</td>\n      <td>JavaScript</td>\n      <td>visualization</td>\n    </tr>\n  </tbody>\n</table>\n</div>"
     },
     "metadata": {},
     "execution_count": 112
    }
   ],
   "source": [
    "# list of important columns that can be used to learn content of project\n",
    "columns = ['Repository Name', 'Description', 'Language', 'Tags']\n",
    "\n",
    "df[columns].head(5)"
   ]
  },
  {
   "cell_type": "markdown",
   "metadata": {},
   "source": [
    "## Checking null values\n",
    "The following section is concerned with null values within the chosen columns of the dataset and deals with them appropriately"
   ]
  },
  {
   "cell_type": "code",
   "execution_count": 113,
   "metadata": {},
   "outputs": [
    {
     "output_type": "execute_result",
     "data": {
      "text/plain": "True"
     },
     "metadata": {},
     "execution_count": 113
    }
   ],
   "source": [
    "# check if null values exist in the new set\n",
    "df[columns].isnull().values.any()"
   ]
  },
  {
   "cell_type": "code",
   "execution_count": 114,
   "metadata": {
    "tags": []
   },
   "outputs": [
    {
     "output_type": "stream",
     "name": "stdout",
     "text": "Language Rows with NaNs: 103 (11%)\nTag Rows with NaNs: 491 (50%)\nCombined Rows with NaNs: 544 (56%)\n"
    }
   ],
   "source": [
    "# find how many rows have null values within language and tag columns\n",
    "null_lang = df['Language'].isna().sum()\n",
    "print(f'Language Rows with NaNs: {null_lang} ({(null_lang/df.shape[0]) *100:.0f}%)')\n",
    "\n",
    "null_tags = df['Tags'].isna().sum()\n",
    "print(f'Tag Rows with NaNs: {null_tags} ({(null_tags/df.shape[0]) *100:.0f}%)')\n",
    "\n",
    "null_rows = len(df[df[columns].isna().any(axis=1)])\n",
    "print(f'Combined Rows with NaNs: {null_rows} ({(null_rows/df.shape[0]) *100:.0f}%)')"
   ]
  },
  {
   "cell_type": "markdown",
   "metadata": {},
   "source": [
    "Ideally you would remove rows with null values however with 56% of the data having either no language or no tags this is too much to sacrifice. We still have complete entries for title and description so we should be able to infer enough detail about each project without the other columns and will instead fill these with empty strings.\n",
    "\n",
    "## Description of each column\n",
    "- **Repository Name:** Important for output as well as including keywords which are directly related to the topic of the project\n",
    "- **Description:** Similar to above, useful for outputting in final deployment and for majority of projects has the highest word count of all columns\n",
    "- **Language:** Single descriptor for most relevant language/technology with respect to the project\n",
    "- **Tags:** Similar to above, and contains only words directly related to the project without \"fluff\" like the description, although this is less of an issue once stopwords have been removed"
   ]
  },
  {
   "cell_type": "code",
   "execution_count": 115,
   "metadata": {},
   "outputs": [
    {
     "output_type": "execute_result",
     "data": {
      "text/plain": "          Repository Name                                        Description  \\\n0            freeCodeCamp  The https://freeCodeCamp.com open source codeb...   \n1               bootstrap  The most popular HTML, CSS, and JavaScript fra...   \n2  free-programming-books                 Freely available programming books   \n3                   react  A declarative, efficient, and flexible JavaScr...   \n4                      d3     Bring data to life with SVG, Canvas and HTML.    \n\n     Language                                               Tags  \n0  JavaScript  nonprofits,certification,curriculum,react,node...  \n1  JavaScript     javascript,css,html,bootstrap,jekyll-site,scss  \n2                                  education,list,books,resource  \n3  JavaScript                                                     \n4  JavaScript                                      visualization  ",
      "text/html": "<div>\n<style scoped>\n    .dataframe tbody tr th:only-of-type {\n        vertical-align: middle;\n    }\n\n    .dataframe tbody tr th {\n        vertical-align: top;\n    }\n\n    .dataframe thead th {\n        text-align: right;\n    }\n</style>\n<table border=\"1\" class=\"dataframe\">\n  <thead>\n    <tr style=\"text-align: right;\">\n      <th></th>\n      <th>Repository Name</th>\n      <th>Description</th>\n      <th>Language</th>\n      <th>Tags</th>\n    </tr>\n  </thead>\n  <tbody>\n    <tr>\n      <th>0</th>\n      <td>freeCodeCamp</td>\n      <td>The https://freeCodeCamp.com open source codeb...</td>\n      <td>JavaScript</td>\n      <td>nonprofits,certification,curriculum,react,node...</td>\n    </tr>\n    <tr>\n      <th>1</th>\n      <td>bootstrap</td>\n      <td>The most popular HTML, CSS, and JavaScript fra...</td>\n      <td>JavaScript</td>\n      <td>javascript,css,html,bootstrap,jekyll-site,scss</td>\n    </tr>\n    <tr>\n      <th>2</th>\n      <td>free-programming-books</td>\n      <td>Freely available programming books</td>\n      <td></td>\n      <td>education,list,books,resource</td>\n    </tr>\n    <tr>\n      <th>3</th>\n      <td>react</td>\n      <td>A declarative, efficient, and flexible JavaScr...</td>\n      <td>JavaScript</td>\n      <td></td>\n    </tr>\n    <tr>\n      <th>4</th>\n      <td>d3</td>\n      <td>Bring data to life with SVG, Canvas and HTML.</td>\n      <td>JavaScript</td>\n      <td>visualization</td>\n    </tr>\n  </tbody>\n</table>\n</div>"
     },
     "metadata": {},
     "execution_count": 115
    }
   ],
   "source": [
    "# create duplicate dataframe object with only important columns and replace null values with empty string, then check\n",
    "df_important = df[columns]\n",
    "df_important.fillna('', inplace=True)\n",
    "df_important.head(5)"
   ]
  },
  {
   "cell_type": "code",
   "execution_count": 116,
   "metadata": {},
   "outputs": [
    {
     "output_type": "execute_result",
     "data": {
      "text/plain": "          Repository Name                                        Description  \\\n0            freeCodeCamp  The https://freeCodeCamp.com open source codeb...   \n1               bootstrap  The most popular HTML CSS and JavaScript frame...   \n2  free-programming-books                 Freely available programming books   \n3                   react  A declarative efficient and flexible JavaScrip...   \n4                      d3      Bring data to life with SVG Canvas and HTML.    \n\n     Language                                               Tags  \n0  JavaScript  nonprofits certification curriculum react node...  \n1  JavaScript     javascript css html bootstrap jekyll-site scss  \n2                                  education list books resource  \n3  JavaScript                                                     \n4  JavaScript                                      visualization  ",
      "text/html": "<div>\n<style scoped>\n    .dataframe tbody tr th:only-of-type {\n        vertical-align: middle;\n    }\n\n    .dataframe tbody tr th {\n        vertical-align: top;\n    }\n\n    .dataframe thead th {\n        text-align: right;\n    }\n</style>\n<table border=\"1\" class=\"dataframe\">\n  <thead>\n    <tr style=\"text-align: right;\">\n      <th></th>\n      <th>Repository Name</th>\n      <th>Description</th>\n      <th>Language</th>\n      <th>Tags</th>\n    </tr>\n  </thead>\n  <tbody>\n    <tr>\n      <th>0</th>\n      <td>freeCodeCamp</td>\n      <td>The https://freeCodeCamp.com open source codeb...</td>\n      <td>JavaScript</td>\n      <td>nonprofits certification curriculum react node...</td>\n    </tr>\n    <tr>\n      <th>1</th>\n      <td>bootstrap</td>\n      <td>The most popular HTML CSS and JavaScript frame...</td>\n      <td>JavaScript</td>\n      <td>javascript css html bootstrap jekyll-site scss</td>\n    </tr>\n    <tr>\n      <th>2</th>\n      <td>free-programming-books</td>\n      <td>Freely available programming books</td>\n      <td></td>\n      <td>education list books resource</td>\n    </tr>\n    <tr>\n      <th>3</th>\n      <td>react</td>\n      <td>A declarative efficient and flexible JavaScrip...</td>\n      <td>JavaScript</td>\n      <td></td>\n    </tr>\n    <tr>\n      <th>4</th>\n      <td>d3</td>\n      <td>Bring data to life with SVG Canvas and HTML.</td>\n      <td>JavaScript</td>\n      <td>visualization</td>\n    </tr>\n  </tbody>\n</table>\n</div>"
     },
     "metadata": {},
     "execution_count": 116
    }
   ],
   "source": [
    "# remove commas from description and tags columns to allow proper tokenization of words\n",
    "df_important[['Tags']] = df_important[['Tags']].applymap(lambda x: ' '.join(x.split(',')))\n",
    "df_important[['Description']] = df_important[['Description']].applymap(lambda x: ''.join(x.split(',')))\n",
    "\n",
    "df_important.head(5)"
   ]
  },
  {
   "cell_type": "markdown",
   "metadata": {},
   "source": [
    "## Weighting\n",
    "By giving more emphasis on desired columns, we can make them have a higher weight when determining strength of certain words. For example, as the language column is a single word descriptor of the primary language used in the project, it could make sense depend on this as a key column and therefore increase the weight it holds. This can be done simply by duplicating the selected column and then every language will show twice which increases its importance"
   ]
  },
  {
   "cell_type": "code",
   "execution_count": 117,
   "metadata": {},
   "outputs": [],
   "source": [
    "#df_important['Language_duplicated'] = df_important['Language']\n",
    "#df_important.head(5)"
   ]
  },
  {
   "cell_type": "code",
   "execution_count": 118,
   "metadata": {},
   "outputs": [
    {
     "output_type": "execute_result",
     "data": {
      "text/plain": "0    freeCodeCamp The https://freeCodeCamp.com open...\n1    bootstrap The most popular HTML CSS and JavaSc...\n2    free-programming-books  Freely available progr...\n3    react A declarative efficient and flexible Jav...\n4    d3 Bring data to life with SVG Canvas and HTML...\ndtype: object"
     },
     "metadata": {},
     "execution_count": 118
    }
   ],
   "source": [
    "corpus = df_important.apply(' '.join, axis=1)\n",
    "corpus.head()"
   ]
  },
  {
   "cell_type": "code",
   "execution_count": 122,
   "metadata": {},
   "outputs": [],
   "source": [
    "tfidf_vectorizer_params = TfidfVectorizer(lowercase=True, stop_words='english', ngram_range=(1,3))"
   ]
  },
  {
   "cell_type": "code",
   "execution_count": 123,
   "metadata": {},
   "outputs": [],
   "source": [
    "tfidf_vectorizer = tfidf_vectorizer_params.fit_transform(corpus)"
   ]
  },
  {
   "cell_type": "code",
   "execution_count": 133,
   "metadata": {},
   "outputs": [
    {
     "output_type": "execute_result",
     "data": {
      "text/plain": "     07511  07511 matlab   10  10 objective  1000  1000 contributors  \\\n0      0.0           0.0  0.0           0.0   0.0                0.0   \n1      0.0           0.0  0.0           0.0   0.0                0.0   \n2      0.0           0.0  0.0           0.0   0.0                0.0   \n3      0.0           0.0  0.0           0.0   0.0                0.0   \n4      0.0           0.0  0.0           0.0   0.0                0.0   \n..     ...           ...  ...           ...   ...                ...   \n975    0.0           0.0  0.0           0.0   0.0                0.0   \n976    0.0           0.0  0.0           0.0   0.0                0.0   \n977    0.0           0.0  0.0           0.0   0.0                0.0   \n978    0.0           0.0  0.0           0.0   0.0                0.0   \n979    0.0           0.0  0.0           0.0   0.0                0.0   \n\n     1000 contributors framework  1024  1024 https  1024 https play  ...  \\\n0                            0.0   0.0         0.0              0.0  ...   \n1                            0.0   0.0         0.0              0.0  ...   \n2                            0.0   0.0         0.0              0.0  ...   \n3                            0.0   0.0         0.0              0.0  ...   \n4                            0.0   0.0         0.0              0.0  ...   \n..                           ...   ...         ...              ...  ...   \n975                          0.0   0.0         0.0              0.0  ...   \n976                          0.0   0.0         0.0              0.0  ...   \n977                          0.0   0.0         0.0              0.0  ...   \n978                          0.0   0.0         0.0              0.0  ...   \n979                          0.0   0.0         0.0              0.0  ...   \n\n     zxcvbn  zxcvbn low  zxcvbn low budget  zxing  zxing android  \\\n0       0.0         0.0                0.0    0.0            0.0   \n1       0.0         0.0                0.0    0.0            0.0   \n2       0.0         0.0                0.0    0.0            0.0   \n3       0.0         0.0                0.0    0.0            0.0   \n4       0.0         0.0                0.0    0.0            0.0   \n..      ...         ...                ...    ...            ...   \n975     0.0         0.0                0.0    0.0            0.0   \n976     0.0         0.0                0.0    0.0            0.0   \n977     0.0         0.0                0.0    0.0            0.0   \n978     0.0         0.0                0.0    0.0            0.0   \n979     0.0         0.0                0.0    0.0            0.0   \n\n     zxing android barcode  zxing official  zxing official zxing  zxing zebra  \\\n0                      0.0             0.0                   0.0          0.0   \n1                      0.0             0.0                   0.0          0.0   \n2                      0.0             0.0                   0.0          0.0   \n3                      0.0             0.0                   0.0          0.0   \n4                      0.0             0.0                   0.0          0.0   \n..                     ...             ...                   ...          ...   \n975                    0.0             0.0                   0.0          0.0   \n976                    0.0             0.0                   0.0          0.0   \n977                    0.0             0.0                   0.0          0.0   \n978                    0.0             0.0                   0.0          0.0   \n979                    0.0             0.0                   0.0          0.0   \n\n     zxing zebra crossing  \n0                     0.0  \n1                     0.0  \n2                     0.0  \n3                     0.0  \n4                     0.0  \n..                    ...  \n975                   0.0  \n976                   0.0  \n977                   0.0  \n978                   0.0  \n979                   0.0  \n\n[980 rows x 22154 columns]",
      "text/html": "<div>\n<style scoped>\n    .dataframe tbody tr th:only-of-type {\n        vertical-align: middle;\n    }\n\n    .dataframe tbody tr th {\n        vertical-align: top;\n    }\n\n    .dataframe thead th {\n        text-align: right;\n    }\n</style>\n<table border=\"1\" class=\"dataframe\">\n  <thead>\n    <tr style=\"text-align: right;\">\n      <th></th>\n      <th>07511</th>\n      <th>07511 matlab</th>\n      <th>10</th>\n      <th>10 objective</th>\n      <th>1000</th>\n      <th>1000 contributors</th>\n      <th>1000 contributors framework</th>\n      <th>1024</th>\n      <th>1024 https</th>\n      <th>1024 https play</th>\n      <th>...</th>\n      <th>zxcvbn</th>\n      <th>zxcvbn low</th>\n      <th>zxcvbn low budget</th>\n      <th>zxing</th>\n      <th>zxing android</th>\n      <th>zxing android barcode</th>\n      <th>zxing official</th>\n      <th>zxing official zxing</th>\n      <th>zxing zebra</th>\n      <th>zxing zebra crossing</th>\n    </tr>\n  </thead>\n  <tbody>\n    <tr>\n      <th>0</th>\n      <td>0.0</td>\n      <td>0.0</td>\n      <td>0.0</td>\n      <td>0.0</td>\n      <td>0.0</td>\n      <td>0.0</td>\n      <td>0.0</td>\n      <td>0.0</td>\n      <td>0.0</td>\n      <td>0.0</td>\n      <td>...</td>\n      <td>0.0</td>\n      <td>0.0</td>\n      <td>0.0</td>\n      <td>0.0</td>\n      <td>0.0</td>\n      <td>0.0</td>\n      <td>0.0</td>\n      <td>0.0</td>\n      <td>0.0</td>\n      <td>0.0</td>\n    </tr>\n    <tr>\n      <th>1</th>\n      <td>0.0</td>\n      <td>0.0</td>\n      <td>0.0</td>\n      <td>0.0</td>\n      <td>0.0</td>\n      <td>0.0</td>\n      <td>0.0</td>\n      <td>0.0</td>\n      <td>0.0</td>\n      <td>0.0</td>\n      <td>...</td>\n      <td>0.0</td>\n      <td>0.0</td>\n      <td>0.0</td>\n      <td>0.0</td>\n      <td>0.0</td>\n      <td>0.0</td>\n      <td>0.0</td>\n      <td>0.0</td>\n      <td>0.0</td>\n      <td>0.0</td>\n    </tr>\n    <tr>\n      <th>2</th>\n      <td>0.0</td>\n      <td>0.0</td>\n      <td>0.0</td>\n      <td>0.0</td>\n      <td>0.0</td>\n      <td>0.0</td>\n      <td>0.0</td>\n      <td>0.0</td>\n      <td>0.0</td>\n      <td>0.0</td>\n      <td>...</td>\n      <td>0.0</td>\n      <td>0.0</td>\n      <td>0.0</td>\n      <td>0.0</td>\n      <td>0.0</td>\n      <td>0.0</td>\n      <td>0.0</td>\n      <td>0.0</td>\n      <td>0.0</td>\n      <td>0.0</td>\n    </tr>\n    <tr>\n      <th>3</th>\n      <td>0.0</td>\n      <td>0.0</td>\n      <td>0.0</td>\n      <td>0.0</td>\n      <td>0.0</td>\n      <td>0.0</td>\n      <td>0.0</td>\n      <td>0.0</td>\n      <td>0.0</td>\n      <td>0.0</td>\n      <td>...</td>\n      <td>0.0</td>\n      <td>0.0</td>\n      <td>0.0</td>\n      <td>0.0</td>\n      <td>0.0</td>\n      <td>0.0</td>\n      <td>0.0</td>\n      <td>0.0</td>\n      <td>0.0</td>\n      <td>0.0</td>\n    </tr>\n    <tr>\n      <th>4</th>\n      <td>0.0</td>\n      <td>0.0</td>\n      <td>0.0</td>\n      <td>0.0</td>\n      <td>0.0</td>\n      <td>0.0</td>\n      <td>0.0</td>\n      <td>0.0</td>\n      <td>0.0</td>\n      <td>0.0</td>\n      <td>...</td>\n      <td>0.0</td>\n      <td>0.0</td>\n      <td>0.0</td>\n      <td>0.0</td>\n      <td>0.0</td>\n      <td>0.0</td>\n      <td>0.0</td>\n      <td>0.0</td>\n      <td>0.0</td>\n      <td>0.0</td>\n    </tr>\n    <tr>\n      <th>...</th>\n      <td>...</td>\n      <td>...</td>\n      <td>...</td>\n      <td>...</td>\n      <td>...</td>\n      <td>...</td>\n      <td>...</td>\n      <td>...</td>\n      <td>...</td>\n      <td>...</td>\n      <td>...</td>\n      <td>...</td>\n      <td>...</td>\n      <td>...</td>\n      <td>...</td>\n      <td>...</td>\n      <td>...</td>\n      <td>...</td>\n      <td>...</td>\n      <td>...</td>\n      <td>...</td>\n    </tr>\n    <tr>\n      <th>975</th>\n      <td>0.0</td>\n      <td>0.0</td>\n      <td>0.0</td>\n      <td>0.0</td>\n      <td>0.0</td>\n      <td>0.0</td>\n      <td>0.0</td>\n      <td>0.0</td>\n      <td>0.0</td>\n      <td>0.0</td>\n      <td>...</td>\n      <td>0.0</td>\n      <td>0.0</td>\n      <td>0.0</td>\n      <td>0.0</td>\n      <td>0.0</td>\n      <td>0.0</td>\n      <td>0.0</td>\n      <td>0.0</td>\n      <td>0.0</td>\n      <td>0.0</td>\n    </tr>\n    <tr>\n      <th>976</th>\n      <td>0.0</td>\n      <td>0.0</td>\n      <td>0.0</td>\n      <td>0.0</td>\n      <td>0.0</td>\n      <td>0.0</td>\n      <td>0.0</td>\n      <td>0.0</td>\n      <td>0.0</td>\n      <td>0.0</td>\n      <td>...</td>\n      <td>0.0</td>\n      <td>0.0</td>\n      <td>0.0</td>\n      <td>0.0</td>\n      <td>0.0</td>\n      <td>0.0</td>\n      <td>0.0</td>\n      <td>0.0</td>\n      <td>0.0</td>\n      <td>0.0</td>\n    </tr>\n    <tr>\n      <th>977</th>\n      <td>0.0</td>\n      <td>0.0</td>\n      <td>0.0</td>\n      <td>0.0</td>\n      <td>0.0</td>\n      <td>0.0</td>\n      <td>0.0</td>\n      <td>0.0</td>\n      <td>0.0</td>\n      <td>0.0</td>\n      <td>...</td>\n      <td>0.0</td>\n      <td>0.0</td>\n      <td>0.0</td>\n      <td>0.0</td>\n      <td>0.0</td>\n      <td>0.0</td>\n      <td>0.0</td>\n      <td>0.0</td>\n      <td>0.0</td>\n      <td>0.0</td>\n    </tr>\n    <tr>\n      <th>978</th>\n      <td>0.0</td>\n      <td>0.0</td>\n      <td>0.0</td>\n      <td>0.0</td>\n      <td>0.0</td>\n      <td>0.0</td>\n      <td>0.0</td>\n      <td>0.0</td>\n      <td>0.0</td>\n      <td>0.0</td>\n      <td>...</td>\n      <td>0.0</td>\n      <td>0.0</td>\n      <td>0.0</td>\n      <td>0.0</td>\n      <td>0.0</td>\n      <td>0.0</td>\n      <td>0.0</td>\n      <td>0.0</td>\n      <td>0.0</td>\n      <td>0.0</td>\n    </tr>\n    <tr>\n      <th>979</th>\n      <td>0.0</td>\n      <td>0.0</td>\n      <td>0.0</td>\n      <td>0.0</td>\n      <td>0.0</td>\n      <td>0.0</td>\n      <td>0.0</td>\n      <td>0.0</td>\n      <td>0.0</td>\n      <td>0.0</td>\n      <td>...</td>\n      <td>0.0</td>\n      <td>0.0</td>\n      <td>0.0</td>\n      <td>0.0</td>\n      <td>0.0</td>\n      <td>0.0</td>\n      <td>0.0</td>\n      <td>0.0</td>\n      <td>0.0</td>\n      <td>0.0</td>\n    </tr>\n  </tbody>\n</table>\n<p>980 rows × 22154 columns</p>\n</div>"
     },
     "metadata": {},
     "execution_count": 133
    }
   ],
   "source": [
    "pd.DataFrame(tfidf_vectorizer.toarray(), columns=tfidf_vectorizer_params.get_feature_names())"
   ]
  },
  {
   "cell_type": "code",
   "execution_count": 135,
   "metadata": {},
   "outputs": [],
   "source": [
    "#pickle.dump(tfidf_vectorizer, open('tfidf_vectorizer.pickle', 'wb'))"
   ]
  },
  {
   "cell_type": "markdown",
   "metadata": {},
   "source": [
    "## Cosine Similarity\n",
    "With the tf-idf scores generated we can now create a new matrix where the instersecting rows and columns display the cosine similarity score for the relevant projects"
   ]
  },
  {
   "cell_type": "code",
   "execution_count": 136,
   "metadata": {},
   "outputs": [],
   "source": [
    "vect_cos_sim = cosine_similarity(tfidf_vectorizer, tfidf_vectorizer)"
   ]
  },
  {
   "cell_type": "code",
   "execution_count": 137,
   "metadata": {},
   "outputs": [
    {
     "output_type": "execute_result",
     "data": {
      "text/plain": "Repository Name         freeCodeCamp  bootstrap  free-programming-books  \\\nRepository Name                                                           \nfreeCodeCamp                1.000000   0.007676                0.027607   \nbootstrap                   0.007676   1.000000                0.000000   \nfree-programming-books      0.027607   0.000000                1.000000   \nreact                       0.015231   0.015239                0.000000   \nd3                          0.022984   0.027493                0.000000   \n\nRepository Name            react        d3  You-Dont-Know-JS  tensorflow  \\\nRepository Name                                                            \nfreeCodeCamp            0.015231  0.022984          0.074595    0.000000   \nbootstrap               0.015239  0.027493          0.011496    0.000000   \nfree-programming-books  0.000000  0.000000          0.027565    0.000000   \nreact                   1.000000  0.007402          0.011089    0.000000   \nd3                      0.007402  1.000000          0.005584    0.010382   \n\nRepository Name          awesome       vue  angular.js  ...    laptop  bolt  \\\nRepository Name                                         ...                   \nfreeCodeCamp            0.000000  0.008986    0.004282  ...  0.000000   0.0   \nbootstrap               0.000000  0.097276    0.039724  ...  0.017589   0.0   \nfree-programming-books  0.019464  0.000000    0.000000  ...  0.000000   0.0   \nreact                   0.000000  0.036880    0.008501  ...  0.000000   0.0   \nd3                      0.000000  0.008982    0.020864  ...  0.000000   0.0   \n\nRepository Name         js-the-right-way  plotly.js  \\\nRepository Name                                       \nfreeCodeCamp                    0.002276   0.047318   \nbootstrap                       0.021117   0.010092   \nfree-programming-books          0.000000   0.000000   \nreact                           0.004519   0.022551   \nd3                              0.033251   0.063494   \n\nRepository Name         hiring-without-whiteboards  Calligraphy  http-prompt  \\\nRepository Name                                                                \nfreeCodeCamp                              0.002164          0.0     0.000000   \nbootstrap                                 0.004453          0.0     0.003334   \nfree-programming-books                    0.000000          0.0     0.000000   \nreact                                     0.004295          0.0     0.000000   \nd3                                        0.002163          0.0     0.000000   \n\nRepository Name         masscan   mint-ui  iina  \nRepository Name                                  \nfreeCodeCamp                0.0  0.000000   0.0  \nbootstrap                   0.0  0.017155   0.0  \nfree-programming-books      0.0  0.000000   0.0  \nreact                       0.0  0.000000   0.0  \nd3                          0.0  0.000000   0.0  \n\n[5 rows x 980 columns]",
      "text/html": "<div>\n<style scoped>\n    .dataframe tbody tr th:only-of-type {\n        vertical-align: middle;\n    }\n\n    .dataframe tbody tr th {\n        vertical-align: top;\n    }\n\n    .dataframe thead th {\n        text-align: right;\n    }\n</style>\n<table border=\"1\" class=\"dataframe\">\n  <thead>\n    <tr style=\"text-align: right;\">\n      <th>Repository Name</th>\n      <th>freeCodeCamp</th>\n      <th>bootstrap</th>\n      <th>free-programming-books</th>\n      <th>react</th>\n      <th>d3</th>\n      <th>You-Dont-Know-JS</th>\n      <th>tensorflow</th>\n      <th>awesome</th>\n      <th>vue</th>\n      <th>angular.js</th>\n      <th>...</th>\n      <th>laptop</th>\n      <th>bolt</th>\n      <th>js-the-right-way</th>\n      <th>plotly.js</th>\n      <th>hiring-without-whiteboards</th>\n      <th>Calligraphy</th>\n      <th>http-prompt</th>\n      <th>masscan</th>\n      <th>mint-ui</th>\n      <th>iina</th>\n    </tr>\n    <tr>\n      <th>Repository Name</th>\n      <th></th>\n      <th></th>\n      <th></th>\n      <th></th>\n      <th></th>\n      <th></th>\n      <th></th>\n      <th></th>\n      <th></th>\n      <th></th>\n      <th></th>\n      <th></th>\n      <th></th>\n      <th></th>\n      <th></th>\n      <th></th>\n      <th></th>\n      <th></th>\n      <th></th>\n      <th></th>\n      <th></th>\n    </tr>\n  </thead>\n  <tbody>\n    <tr>\n      <th>freeCodeCamp</th>\n      <td>1.000000</td>\n      <td>0.007676</td>\n      <td>0.027607</td>\n      <td>0.015231</td>\n      <td>0.022984</td>\n      <td>0.074595</td>\n      <td>0.000000</td>\n      <td>0.000000</td>\n      <td>0.008986</td>\n      <td>0.004282</td>\n      <td>...</td>\n      <td>0.000000</td>\n      <td>0.0</td>\n      <td>0.002276</td>\n      <td>0.047318</td>\n      <td>0.002164</td>\n      <td>0.0</td>\n      <td>0.000000</td>\n      <td>0.0</td>\n      <td>0.000000</td>\n      <td>0.0</td>\n    </tr>\n    <tr>\n      <th>bootstrap</th>\n      <td>0.007676</td>\n      <td>1.000000</td>\n      <td>0.000000</td>\n      <td>0.015239</td>\n      <td>0.027493</td>\n      <td>0.011496</td>\n      <td>0.000000</td>\n      <td>0.000000</td>\n      <td>0.097276</td>\n      <td>0.039724</td>\n      <td>...</td>\n      <td>0.017589</td>\n      <td>0.0</td>\n      <td>0.021117</td>\n      <td>0.010092</td>\n      <td>0.004453</td>\n      <td>0.0</td>\n      <td>0.003334</td>\n      <td>0.0</td>\n      <td>0.017155</td>\n      <td>0.0</td>\n    </tr>\n    <tr>\n      <th>free-programming-books</th>\n      <td>0.027607</td>\n      <td>0.000000</td>\n      <td>1.000000</td>\n      <td>0.000000</td>\n      <td>0.000000</td>\n      <td>0.027565</td>\n      <td>0.000000</td>\n      <td>0.019464</td>\n      <td>0.000000</td>\n      <td>0.000000</td>\n      <td>...</td>\n      <td>0.000000</td>\n      <td>0.0</td>\n      <td>0.000000</td>\n      <td>0.000000</td>\n      <td>0.000000</td>\n      <td>0.0</td>\n      <td>0.000000</td>\n      <td>0.0</td>\n      <td>0.000000</td>\n      <td>0.0</td>\n    </tr>\n    <tr>\n      <th>react</th>\n      <td>0.015231</td>\n      <td>0.015239</td>\n      <td>0.000000</td>\n      <td>1.000000</td>\n      <td>0.007402</td>\n      <td>0.011089</td>\n      <td>0.000000</td>\n      <td>0.000000</td>\n      <td>0.036880</td>\n      <td>0.008501</td>\n      <td>...</td>\n      <td>0.000000</td>\n      <td>0.0</td>\n      <td>0.004519</td>\n      <td>0.022551</td>\n      <td>0.004295</td>\n      <td>0.0</td>\n      <td>0.000000</td>\n      <td>0.0</td>\n      <td>0.000000</td>\n      <td>0.0</td>\n    </tr>\n    <tr>\n      <th>d3</th>\n      <td>0.022984</td>\n      <td>0.027493</td>\n      <td>0.000000</td>\n      <td>0.007402</td>\n      <td>1.000000</td>\n      <td>0.005584</td>\n      <td>0.010382</td>\n      <td>0.000000</td>\n      <td>0.008982</td>\n      <td>0.020864</td>\n      <td>...</td>\n      <td>0.000000</td>\n      <td>0.0</td>\n      <td>0.033251</td>\n      <td>0.063494</td>\n      <td>0.002163</td>\n      <td>0.0</td>\n      <td>0.000000</td>\n      <td>0.0</td>\n      <td>0.000000</td>\n      <td>0.0</td>\n    </tr>\n  </tbody>\n</table>\n<p>5 rows × 980 columns</p>\n</div>"
     },
     "metadata": {},
     "execution_count": 137
    }
   ],
   "source": [
    "pd.DataFrame(data=vect_cos_sim, index=df_important['Repository Name'], columns=df_important['Repository Name']).head(5)"
   ]
  },
  {
   "cell_type": "markdown",
   "metadata": {},
   "source": [
    "## Making recommendations\n",
    "Now that we have a way of generating similarity scores for pairs of projects, we can define a function which takes a project name as an argument and returns the top n project using their similarity scores. Note that rather than keeping the entire cosine similarity matrix in memory we will generate a much smaller matrix which only holds the scores for the project of our concern, this way we do not need a matrix of 980x980 but rather 1x980"
   ]
  },
  {
   "cell_type": "code",
   "execution_count": 176,
   "metadata": {},
   "outputs": [],
   "source": [
    "# recommend function, used to find cosine similarity scores for a particular project and return the top results in a sorted list\n",
    "def recommend(project_title, n):\n",
    "    \n",
    "    # find index of project\n",
    "    title_iloc = df_important.index[df_important['Repository Name'] == project_title][0]\n",
    "    \n",
    "    # generate cosine similarity matrix\n",
    "    project_cos_sim = cosine_similarity(tfidf_vectorizer[title_iloc],tfidf_vectorizer).flatten()\n",
    "    \n",
    "    # get top n most similar projects\n",
    "    topN = sorted(list(enumerate(project_cos_sim)), key=lambda x: x[1], reverse=True)[1:n+1]\n",
    "\n",
    "    # return results\n",
    "    response = '\\n'.join(f'{df_important.iloc[t_vect[0]][0]} --> confidence: {round(t_vect[1],1)}' for t_vect in topN)\n",
    "\n",
    "    return response"
   ]
  },
  {
   "cell_type": "markdown",
   "metadata": {},
   "source": [
    "Based on initial testing, the results seem quite intuitive. Flask, a python web framework, gets results for pyspider, djangy and scrapy amongst other python related projects."
   ]
  },
  {
   "cell_type": "code",
   "execution_count": 177,
   "metadata": {
    "tags": []
   },
   "outputs": [
    {
     "output_type": "stream",
     "name": "stdout",
     "text": "pyspider --> confidence: 0.1\ntornado --> confidence: 0.1\npython-patterns --> confidence: 0.1\ndjango --> confidence: 0.1\nscrapy --> confidence: 0.1\npython-fire --> confidence: 0.1\nawesome-python --> confidence: 0.1\nmartini --> confidence: 0.1\nscikit-learn --> confidence: 0.1\npelican --> confidence: 0.1\n"
    }
   ],
   "source": [
    "# run recommend function on \"flask\" with the top 10 results being printed\n",
    "print(recommend('flask', 10))"
   ]
  },
  {
   "cell_type": "markdown",
   "metadata": {},
   "source": [
    "Even running the function on something like the WebFundamentals project, a collection of best practices for web development, where it returns other similar projects like android-best-practices and js-the-right-way."
   ]
  },
  {
   "cell_type": "code",
   "execution_count": 178,
   "metadata": {
    "tags": []
   },
   "outputs": [
    {
     "output_type": "stream",
     "name": "stdout",
     "text": "lighthouse --> confidence: 0.2\nandroid-best-practices --> confidence: 0.2\nfrontend-guidelines --> confidence: 0.1\njs-the-right-way --> confidence: 0.1\nBest-App --> confidence: 0.1\nnightmare --> confidence: 0.1\nionic --> confidence: 0.1\nvux --> confidence: 0.1\nbeautiful-web-type --> confidence: 0.1\npure --> confidence: 0.1\n"
    }
   ],
   "source": [
    "print(recommend('WebFundamentals', 10))"
   ]
  }
 ]
}