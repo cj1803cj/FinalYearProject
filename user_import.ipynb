{
 "metadata": {
  "language_info": {
   "codemirror_mode": {
    "name": "ipython",
    "version": 3
   },
   "file_extension": ".py",
   "mimetype": "text/x-python",
   "name": "python",
   "nbconvert_exporter": "python",
   "pygments_lexer": "ipython3",
   "version": "3.7.7-final"
  },
  "orig_nbformat": 2,
  "kernelspec": {
   "name": "python_defaultSpec_1598006043486",
   "display_name": "Python 3.7.7 64-bit ('py37': conda)"
  }
 },
 "nbformat": 4,
 "nbformat_minor": 2,
 "cells": [
  {
   "cell_type": "code",
   "execution_count": 47,
   "metadata": {},
   "outputs": [],
   "source": [
    "# imports for required libraries\n",
    "import pandas as pd\n",
    "import numpy as np\n",
    "from sklearn.metrics.pairwise import cosine_similarity\n",
    "from sklearn.feature_extraction.text import TfidfVectorizer\n",
    "import pickle\n",
    "\n",
    "from werkzeug.security import generate_password_hash, check_password_hash\n",
    "\n",
    "from sqlalchemy import create_engine"
   ]
  },
  {
   "cell_type": "code",
   "execution_count": 2,
   "metadata": {},
   "outputs": [],
   "source": [
    "# load datased as pandas dataframe\n",
    "df = pd.read_csv('TopStaredRepositories.csv')"
   ]
  },
  {
   "cell_type": "code",
   "execution_count": 3,
   "metadata": {},
   "outputs": [
    {
     "output_type": "execute_result",
     "data": {
      "text/plain": "          Username         Repository Name  \\\n0     freeCodeCamp            freeCodeCamp   \n1             twbs               bootstrap   \n2  EbookFoundation  free-programming-books   \n3         facebook                   react   \n4               d3                      d3   \n\n                                         Description      Last Update Date  \\\n0  The https://freeCodeCamp.com open source codeb...  2017-06-24T15:56:17Z   \n1  The most popular HTML, CSS, and JavaScript fra...  2017-06-24T15:40:21Z   \n2                 Freely available programming books  2017-06-23T01:09:34Z   \n3  A declarative, efficient, and flexible JavaScr...  2017-06-24T19:33:49Z   \n4     Bring data to life with SVG, Canvas and HTML.   2017-05-31T06:03:47Z   \n\n     Language Number of Stars  \\\n0  JavaScript            290k   \n1  JavaScript            112k   \n2         NaN           87.8k   \n3  JavaScript           69.7k   \n4  JavaScript           65.7k   \n\n                                                Tags  \\\n0  nonprofits,certification,curriculum,react,node...   \n1     javascript,css,html,bootstrap,jekyll-site,scss   \n2                      education,list,books,resource   \n3                                                NaN   \n4                                      visualization   \n\n                                                 Url  \\\n0       https://github.com/freeCodeCamp/freeCodeCamp   \n1                  https://github.com/twbs/bootstrap   \n2  https://github.com/EbookFoundation/free-progra...   \n3                  https://github.com/facebook/react   \n4                           https://github.com/d3/d3   \n\n                                            Gravatar  \n0  https://avatars0.githubusercontent.com/u/98925...  \n1  https://avatars0.githubusercontent.com/u/29185...  \n2  https://avatars0.githubusercontent.com/u/14127...  \n3  https://avatars3.githubusercontent.com/u/69631...  \n4  https://avatars1.githubusercontent.com/u/15627...  ",
      "text/html": "<div>\n<style scoped>\n    .dataframe tbody tr th:only-of-type {\n        vertical-align: middle;\n    }\n\n    .dataframe tbody tr th {\n        vertical-align: top;\n    }\n\n    .dataframe thead th {\n        text-align: right;\n    }\n</style>\n<table border=\"1\" class=\"dataframe\">\n  <thead>\n    <tr style=\"text-align: right;\">\n      <th></th>\n      <th>Username</th>\n      <th>Repository Name</th>\n      <th>Description</th>\n      <th>Last Update Date</th>\n      <th>Language</th>\n      <th>Number of Stars</th>\n      <th>Tags</th>\n      <th>Url</th>\n      <th>Gravatar</th>\n    </tr>\n  </thead>\n  <tbody>\n    <tr>\n      <th>0</th>\n      <td>freeCodeCamp</td>\n      <td>freeCodeCamp</td>\n      <td>The https://freeCodeCamp.com open source codeb...</td>\n      <td>2017-06-24T15:56:17Z</td>\n      <td>JavaScript</td>\n      <td>290k</td>\n      <td>nonprofits,certification,curriculum,react,node...</td>\n      <td>https://github.com/freeCodeCamp/freeCodeCamp</td>\n      <td>https://avatars0.githubusercontent.com/u/98925...</td>\n    </tr>\n    <tr>\n      <th>1</th>\n      <td>twbs</td>\n      <td>bootstrap</td>\n      <td>The most popular HTML, CSS, and JavaScript fra...</td>\n      <td>2017-06-24T15:40:21Z</td>\n      <td>JavaScript</td>\n      <td>112k</td>\n      <td>javascript,css,html,bootstrap,jekyll-site,scss</td>\n      <td>https://github.com/twbs/bootstrap</td>\n      <td>https://avatars0.githubusercontent.com/u/29185...</td>\n    </tr>\n    <tr>\n      <th>2</th>\n      <td>EbookFoundation</td>\n      <td>free-programming-books</td>\n      <td>Freely available programming books</td>\n      <td>2017-06-23T01:09:34Z</td>\n      <td>NaN</td>\n      <td>87.8k</td>\n      <td>education,list,books,resource</td>\n      <td>https://github.com/EbookFoundation/free-progra...</td>\n      <td>https://avatars0.githubusercontent.com/u/14127...</td>\n    </tr>\n    <tr>\n      <th>3</th>\n      <td>facebook</td>\n      <td>react</td>\n      <td>A declarative, efficient, and flexible JavaScr...</td>\n      <td>2017-06-24T19:33:49Z</td>\n      <td>JavaScript</td>\n      <td>69.7k</td>\n      <td>NaN</td>\n      <td>https://github.com/facebook/react</td>\n      <td>https://avatars3.githubusercontent.com/u/69631...</td>\n    </tr>\n    <tr>\n      <th>4</th>\n      <td>d3</td>\n      <td>d3</td>\n      <td>Bring data to life with SVG, Canvas and HTML.</td>\n      <td>2017-05-31T06:03:47Z</td>\n      <td>JavaScript</td>\n      <td>65.7k</td>\n      <td>visualization</td>\n      <td>https://github.com/d3/d3</td>\n      <td>https://avatars1.githubusercontent.com/u/15627...</td>\n    </tr>\n  </tbody>\n</table>\n</div>"
     },
     "metadata": {},
     "execution_count": 3
    }
   ],
   "source": [
    "# print first 5 rows of dataset\n",
    "df.head(5)"
   ]
  },
  {
   "cell_type": "code",
   "execution_count": 4,
   "metadata": {},
   "outputs": [
    {
     "output_type": "execute_result",
     "data": {
      "text/plain": "(980, 9)"
     },
     "metadata": {},
     "execution_count": 4
    }
   ],
   "source": [
    "# print number of rows and columns in dataset, 980 and 9 respectively\n",
    "df.shape"
   ]
  },
  {
   "cell_type": "code",
   "execution_count": 56,
   "metadata": {},
   "outputs": [],
   "source": [
    "df.rename(columns={\"Username\": \"username\"}, inplace=True)\n",
    "df[\"email\"] = df[\"username\"] + \"@example.com\"\n",
    "df[\"about_me\"] = \"This is \" + df[\"username\"] + \"'s profile\"\n",
    "df[\"last_seen\"] = \"2020-08-20 17:42:53.249352\"\n",
    "# commented below to avoid regenerating data each time cell runs\n",
    "# df[\"password_hash\"] = df[\"username\"].apply(lambda x: generate_password_hash(x))"
   ]
  },
  {
   "cell_type": "markdown",
   "metadata": {},
   "source": [
    "Check that passwords in dataframe have been hashed correctly by using the provided check_password_hash() function against a known password value"
   ]
  },
  {
   "cell_type": "code",
   "execution_count": 49,
   "metadata": {},
   "outputs": [
    {
     "output_type": "execute_result",
     "data": {
      "text/plain": "True"
     },
     "metadata": {},
     "execution_count": 49
    }
   ],
   "source": [
    "check_password_hash(df_important['password_hash'].iloc[0], \"freeCodeCamp\")"
   ]
  },
  {
   "cell_type": "code",
   "execution_count": 57,
   "metadata": {},
   "outputs": [
    {
     "output_type": "execute_result",
     "data": {
      "text/plain": "          username                        email  \\\n0     freeCodeCamp     freeCodeCamp@example.com   \n1             twbs             twbs@example.com   \n2  EbookFoundation  EbookFoundation@example.com   \n3         facebook         facebook@example.com   \n4               d3               d3@example.com   \n\n                                       password_hash  \\\n0  pbkdf2:sha256:150000$UskQ9iRc$6e52d2ba61ac8631...   \n1  pbkdf2:sha256:150000$yVEsMNo2$26aa3e7813f5ebac...   \n2  pbkdf2:sha256:150000$1uG5rXvn$160e96fd724a2d47...   \n3  pbkdf2:sha256:150000$tMqTa9Bw$f2f87fb5ca933ba0...   \n4  pbkdf2:sha256:150000$f7L19M5c$1097e4bcbf6f0b05...   \n\n                            about_me                   last_seen  \n0     This is freeCodeCamp's profile  2020-08-20 17:42:53.249352  \n1             This is twbs's profile  2020-08-20 17:42:53.249352  \n2  This is EbookFoundation's profile  2020-08-20 17:42:53.249352  \n3         This is facebook's profile  2020-08-20 17:42:53.249352  \n4               This is d3's profile  2020-08-20 17:42:53.249352  ",
      "text/html": "<div>\n<style scoped>\n    .dataframe tbody tr th:only-of-type {\n        vertical-align: middle;\n    }\n\n    .dataframe tbody tr th {\n        vertical-align: top;\n    }\n\n    .dataframe thead th {\n        text-align: right;\n    }\n</style>\n<table border=\"1\" class=\"dataframe\">\n  <thead>\n    <tr style=\"text-align: right;\">\n      <th></th>\n      <th>username</th>\n      <th>email</th>\n      <th>password_hash</th>\n      <th>about_me</th>\n      <th>last_seen</th>\n    </tr>\n  </thead>\n  <tbody>\n    <tr>\n      <th>0</th>\n      <td>freeCodeCamp</td>\n      <td>freeCodeCamp@example.com</td>\n      <td>pbkdf2:sha256:150000$UskQ9iRc$6e52d2ba61ac8631...</td>\n      <td>This is freeCodeCamp's profile</td>\n      <td>2020-08-20 17:42:53.249352</td>\n    </tr>\n    <tr>\n      <th>1</th>\n      <td>twbs</td>\n      <td>twbs@example.com</td>\n      <td>pbkdf2:sha256:150000$yVEsMNo2$26aa3e7813f5ebac...</td>\n      <td>This is twbs's profile</td>\n      <td>2020-08-20 17:42:53.249352</td>\n    </tr>\n    <tr>\n      <th>2</th>\n      <td>EbookFoundation</td>\n      <td>EbookFoundation@example.com</td>\n      <td>pbkdf2:sha256:150000$1uG5rXvn$160e96fd724a2d47...</td>\n      <td>This is EbookFoundation's profile</td>\n      <td>2020-08-20 17:42:53.249352</td>\n    </tr>\n    <tr>\n      <th>3</th>\n      <td>facebook</td>\n      <td>facebook@example.com</td>\n      <td>pbkdf2:sha256:150000$tMqTa9Bw$f2f87fb5ca933ba0...</td>\n      <td>This is facebook's profile</td>\n      <td>2020-08-20 17:42:53.249352</td>\n    </tr>\n    <tr>\n      <th>4</th>\n      <td>d3</td>\n      <td>d3@example.com</td>\n      <td>pbkdf2:sha256:150000$f7L19M5c$1097e4bcbf6f0b05...</td>\n      <td>This is d3's profile</td>\n      <td>2020-08-20 17:42:53.249352</td>\n    </tr>\n  </tbody>\n</table>\n</div>"
     },
     "metadata": {},
     "execution_count": 57
    }
   ],
   "source": [
    "columns = [\"username\", \"email\", \"password_hash\", \"about_me\", \"last_seen\"]\n",
    "df_important = df[columns]\n",
    "df_important.head(5)"
   ]
  },
  {
   "cell_type": "markdown",
   "metadata": {},
   "source": [
    "# Unique Constraint\n",
    "The issue with this approach is that some of the entries in the original csv file have the same user (project owner in this app context) which means that the simple approach of inserting each username into the database and linking the id of that user with the project's owner fails as the usernames are not always unique. The easiest solution for now is to create a single user which owns all of the imported projects. While not being ideal, this doesn't cause the recommendations to fail or be obscured as the model does not look at a user's own projects to perform."
   ]
  }
 ]
}